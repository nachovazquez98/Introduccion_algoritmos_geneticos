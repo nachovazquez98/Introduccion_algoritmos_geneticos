{
 "cells": [
  {
   "cell_type": "markdown",
   "metadata": {},
   "source": [
    "SEMINARIO DE SOLUCION DE PROBLEMAS DE INTELIGENCIA ARTIFICIAL I\n",
    "\n",
    "Vázquez Pérez Ignacio David\n",
    "\n",
    "218292866\n",
    "\n",
    "Ingeniería en computación"
   ]
  },
  {
   "cell_type": "markdown",
   "metadata": {},
   "source": [
    "## Algoritmo Genético Binario\n",
    "Hay una fila de n monedas cuyos valores son enteros positivos C1, C2, .. , Cn no necesariamente distintos. La meta es tomar la máxima cantidad de dinero sujeto a la restricción de que no pueden ser tomadas dos monedas adyacentes en la fila.\n",
    "\n",
    "Implementar una solución al problema descrito utilizando un Algoritmo Genético.\n",
    "\n",
    "Resolver el problema de la fila de monedas para la siguiente lista de monedas:\n",
    "[ 1, 20, 5, 1, 2, 5, 5, 1, 5, 2, 2, 1, 10, 5, 10, 5, 20, 20, 20, 5, 1, 1, 20, 20, 1, 10, 2, 10, 5, 2, 10, 1, 20, 1, 20, 10, 5, 5, 20, 2, 10, 1, 2, 5, 10, 20, 10, 2, 5, 5, 20, 1, 1, 5, 10, 10, 10, 1, 5, 2, 1, 2, 10, 20, 2, 10, 10, 20, 5, 10, 1, 2, 1, 5, 20, 2, 5, 1, 5, 10, 2, 5, 10, 2, 1, 1, 1, 10, 20, 10, 20, 2, 2, 10, 20, 10, 1, 1, 5, 2]"
   ]
  },
  {
   "cell_type": "markdown",
   "metadata": {},
   "source": [
    "### Implementación del Algoritmo Genético:\n",
    "1. Representación del individuo: Cada individuo en la población es una posible disposición de monedas en la fila. Representaremos una solución como una lista de 0s y 1s, donde un 1 indica que una moneda se toma y un 0 indica que no se toma. La longitud de la lista es igual al número de monedas en la fila.\n",
    "\n",
    "2. Función de fitness: La función de fitness evaluará la calidad de una disposición de monedas. Cuanto mayor sea la suma de los valores de las monedas tomadas, mejor será la solución. Sin embargo, debemos tener en cuenta la restricción de que no se pueden tomar dos monedas adyacentes. Por lo tanto, si encontramos dos monedas adyacentes tomadas, penalizaremos la solución reduciendo su valor de fitness.\n",
    "\n",
    "3. Proceso de evolución: Utilizaremos operadores genéticos como la selección, el cruce y la mutación para evolucionar la población. Después de evaluar el fitness de cada individuo, seleccionaremos a los mejores individuos para reproducirse mediante cruce. Además, aplicaremos una pequeña tasa de mutación para introducir variabilidad en la población.\n",
    "\n",
    "### Implementación de la Función de Fitness:\n",
    "La función de fitness recorre la disposición de monedas y calcula la suma de los valores de las monedas tomadas. Además, penaliza la solución si encuentra dos monedas adyacentes tomadas, reduciendo su valor de fitness. Esto se hace restando la mitad del valor de la moneda adyacente si ambas monedas están tomadas."
   ]
  },
  {
   "cell_type": "code",
   "execution_count": 3,
   "metadata": {},
   "outputs": [
    {
     "name": "stdout",
     "output_type": "stream",
     "text": [
      "Mejor solución encontrada: [0 1 1 1 0 1 1 0 1 0 1 0 1 0 1 0 1 1 1 1 1 0 1 1 0 1 0 1 1 0 1 0 1 0 1 1 1\n",
      " 0 1 0 1 1 0 1 0 1 1 0 1 0 1 1 1 0 1 1 1 0 1 1 1 1 0 1 0 1 0 1 0 1 0 1 1 0\n",
      " 1 0 1 1 0 1 1 0 1 1 1 1 1 0 1 0 1 1 1 0 1 1 1 0 1 1]\n",
      "Fitness de la mejor solución: 518\n"
     ]
    }
   ],
   "source": [
    "import numpy as np\n",
    "\n",
    "# Definir la lista de monedas\n",
    "coins = [1, 20, 5, 1, 2, 5, 5, 1, 5, 2, 2, 1, 10, 5, 10, 5, 20, 20, 20, 5, 1, 1, 20, 20, 1, 10, 2, 10, 5, 2, 10, 1, 20, 1, 20, 10, 5, 5, 20, 2, 10, 1, 2, 5, 10, 20, 10, 2, 5, 5, 20, 1, 1, 5, 10, 10, 10, 1, 5, 2, 1, 2, 10, 20, 2, 10, 10, 20, 5, 10, 1, 2, 1, 5, 20, 2, 5, 1, 5, 10, 2, 5, 10, 2, 1, 1, 1, 10, 20, 10, 20, 2, 2, 10, 20, 10, 1, 1, 5, 2]\n",
    "\n",
    "# Función de fitness\n",
    "def fitness(solution):\n",
    "    total_value = 0\n",
    "    for i in range(len(solution)):\n",
    "        if solution[i] == 1:\n",
    "            total_value += coins[i]\n",
    "            # Penalizar soluciones con monedas adyacentes tomadas\n",
    "            if i > 0 and solution[i - 1] == 1:\n",
    "                total_value -= coins[i] // 2\n",
    "    return total_value\n",
    "\n",
    "# Algoritmo genético\n",
    "def genetic_algorithm(population_size, generations):\n",
    "    # Inicializar la población con soluciones aleatorias\n",
    "    population = np.random.randint(2, size=(population_size, len(coins)))\n",
    "    \n",
    "    for generation in range(generations):\n",
    "        # Calcular el fitness de cada individuo en la población\n",
    "        fitness_values = [fitness(individual) for individual in population]\n",
    "        \n",
    "        # Seleccionar los mejores individuos para la reproducción\n",
    "        selected_indices = np.argsort(fitness_values)[-population_size // 2:]\n",
    "        selected_individuals = population[selected_indices]\n",
    "        \n",
    "        # Aplicar cruce\n",
    "        offspring = []\n",
    "        for _ in range(population_size - len(selected_individuals)):\n",
    "            indices = np.random.randint(len(selected_individuals), size=2)\n",
    "            parent1, parent2 = selected_individuals[indices[0]], selected_individuals[indices[1]]\n",
    "            crossover_point = np.random.randint(len(coins))\n",
    "            child = np.concatenate([parent1[:crossover_point], parent2[crossover_point:]])\n",
    "            offspring.append(child)\n",
    "        offspring = np.array(offspring)\n",
    "        \n",
    "        # Aplicar mutación\n",
    "        mutation_rate = 0.05\n",
    "        mutation_mask = np.random.rand(*offspring.shape) < mutation_rate\n",
    "        offspring ^= mutation_mask\n",
    "        \n",
    "        # Reemplazar la población con la descendencia\n",
    "        population = np.vstack([selected_individuals, offspring])\n",
    "    \n",
    "    # Obtener la mejor solución encontrada\n",
    "    best_solution_index = np.argmax([fitness(individual) for individual in population])\n",
    "    best_solution = population[best_solution_index]\n",
    "    best_fitness = fitness_values[best_solution_index]\n",
    "    \n",
    "    return best_solution, best_fitness\n",
    "\n",
    "# Parámetros del algoritmo genético\n",
    "population_size = 100\n",
    "generations = 1000\n",
    "\n",
    "# Ejecutar el algoritmo genético\n",
    "best_solution, best_fitness = genetic_algorithm(population_size, generations)\n",
    "\n",
    "print(\"Mejor solución encontrada:\", best_solution)\n",
    "print(\"Fitness de la mejor solución:\", best_fitness)\n"
   ]
  },
  {
   "cell_type": "markdown",
   "metadata": {},
   "source": [
    "## Conclusión\n",
    "El problema de la fila de monedas se resolvió de manera efectiva utilizando un enfoque de algoritmo genético. El enfoque de algoritmo genético proporcionó una manera intuitiva de buscar soluciones óptimas al problema, permitiendo la exploración de un amplio espacio de soluciones. La implementación de la función de fitness fue crucial para evaluar la calidad de las soluciones y garantizar que se cumpliera la restricción de que no se pueden tomar dos monedas adyacentes. En general, los algoritmos genéticos son herramientas poderosas para abordar problemas de optimización combinatoria como este.\n"
   ]
  },
  {
   "cell_type": "code",
   "execution_count": null,
   "metadata": {},
   "outputs": [],
   "source": []
  },
  {
   "cell_type": "code",
   "execution_count": null,
   "metadata": {},
   "outputs": [],
   "source": []
  }
 ],
 "metadata": {
  "kernelspec": {
   "display_name": "Python 3.6.9 64-bit",
   "language": "python",
   "name": "python3"
  },
  "language_info": {
   "codemirror_mode": {
    "name": "ipython",
    "version": 3
   },
   "file_extension": ".py",
   "mimetype": "text/x-python",
   "name": "python",
   "nbconvert_exporter": "python",
   "pygments_lexer": "ipython3",
   "version": "3.6.9"
  },
  "orig_nbformat": 4,
  "vscode": {
   "interpreter": {
    "hash": "31f2aee4e71d21fbe5cf8b01ff0e069b9275f58929596ceb00d14d90e3e16cd6"
   }
  }
 },
 "nbformat": 4,
 "nbformat_minor": 2
}
